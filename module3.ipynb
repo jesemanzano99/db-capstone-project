{
 "cells": [
  {
   "cell_type": "code",
   "execution_count": 9,
   "id": "e838d314-0f68-4cbd-af8a-e9452d16307c",
   "metadata": {},
   "outputs": [
    {
     "name": "stdout",
     "output_type": "stream",
     "text": [
      "Requirement already satisfied: mysql-connector-python in c:\\users\\dmanzano\\appdata\\local\\programs\\python\\python312\\lib\\site-packages (9.0.0)\n",
      "libreries imported\n"
     ]
    }
   ],
   "source": [
    "!pip install mysql-connector-python\n",
    "# Import MySQL Connector/Python \n",
    "import mysql.connector as connector\n",
    "print(\"libreries imported\")"
   ]
  },
  {
   "cell_type": "code",
   "execution_count": 13,
   "id": "c9997f2b-e504-4f0c-abfa-27e6948afd22",
   "metadata": {},
   "outputs": [
    {
     "name": "stdout",
     "output_type": "stream",
     "text": [
      "Error: 2003 (HY000): Can't connect to MySQL server on '127.0.0.1:3306' (10061)\n"
     ]
    }
   ],
   "source": [
    "import mysql.connector as connector\n",
    "from mysql.connector import Error\n",
    "\n",
    "#TASK1\n",
    "try:\n",
    "    connection = connector.connect(host='127.0.0.1',  # or 'localhost'\n",
    "        port=3306,user = \"admin1\", password = \"Moreno01*\", db = \"capstone\") \n",
    "    if connection.is_connected():\n",
    "        print(\"Connected to MySQL database\")\n",
    "\n",
    "except Error as e:\n",
    "    print(f\"Error: {e}\")\n",
    "\n",
    "#TASK2\n",
    "show_tables_query = \"SHOW tables\" \n",
    "results = cursor.execute(show_tables_query)\n",
    "print(results)\n",
    "\n",
    "#TASK3 \n",
    "\n",
    "query3= \"\"\"\n",
    "SELECT \n",
    "    customers.fullname, \n",
    "    customers.contactdetails\n",
    "FROM \n",
    "    Orders\n",
    "JOIN \n",
    "    Customers\n",
    "ON \n",
    "    Orders.customerID = Customers.customerID\n",
    "WHERE \n",
    "    Orders.totalcost > 60;\n",
    "\"\"\"\n",
    "\n",
    "cursor.execute(query3)\n",
    "print(cursor.column_names)\n",
    "for i in cursor.fetchall():\n",
    "    print(i)\n"
   ]
  },
  {
   "cell_type": "code",
   "execution_count": null,
   "id": "49b10db1-835a-4c26-add1-6594a4306bf6",
   "metadata": {},
   "outputs": [],
   "source": []
  },
  {
   "cell_type": "code",
   "execution_count": null,
   "id": "173f5021-8c54-48bd-94cb-65bf3fb7e23f",
   "metadata": {},
   "outputs": [],
   "source": []
  },
  {
   "cell_type": "code",
   "execution_count": null,
   "id": "2b47847f-b70a-4cda-9f30-3846865f1b45",
   "metadata": {},
   "outputs": [],
   "source": []
  },
  {
   "cell_type": "code",
   "execution_count": null,
   "id": "fbde19c2-1521-44f7-8542-5cd125170e9e",
   "metadata": {},
   "outputs": [],
   "source": []
  },
  {
   "cell_type": "code",
   "execution_count": null,
   "id": "b20f03ff-cd3f-49a7-8d7a-3bb23fc93fd7",
   "metadata": {},
   "outputs": [],
   "source": []
  },
  {
   "cell_type": "code",
   "execution_count": null,
   "id": "6eadc1e9-e44b-4135-b991-7348a6fb28d2",
   "metadata": {},
   "outputs": [],
   "source": []
  },
  {
   "cell_type": "code",
   "execution_count": null,
   "id": "f2904945-4a4a-41e5-bcda-aa7e91de7430",
   "metadata": {},
   "outputs": [],
   "source": []
  },
  {
   "cell_type": "code",
   "execution_count": null,
   "id": "f26c3472-12a5-4351-ba88-5551cc2ea0cc",
   "metadata": {},
   "outputs": [],
   "source": []
  },
  {
   "cell_type": "code",
   "execution_count": null,
   "id": "19931fe0-ee74-45a4-9756-f3328c70c2d1",
   "metadata": {},
   "outputs": [],
   "source": []
  }
 ],
 "metadata": {
  "kernelspec": {
   "display_name": "Python 3 (ipykernel)",
   "language": "python",
   "name": "python3"
  },
  "language_info": {
   "codemirror_mode": {
    "name": "ipython",
    "version": 3
   },
   "file_extension": ".py",
   "mimetype": "text/x-python",
   "name": "python",
   "nbconvert_exporter": "python",
   "pygments_lexer": "ipython3",
   "version": "3.12.0"
  }
 },
 "nbformat": 4,
 "nbformat_minor": 5
}
